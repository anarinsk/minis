{
 "cells": [
  {
   "cell_type": "code",
   "execution_count": 1,
   "id": "9eb3b522-f3af-4c14-90f7-df06af631f8d",
   "metadata": {},
   "outputs": [],
   "source": [
    "from fractions import Fraction\n",
    "\n",
    "def P(event, space): \n",
    "    \"The probability of an event, given a sample space.\"\n",
    "    return Fraction(cases(favorable(event, space)), \n",
    "                    cases(space))\n",
    "\n",
    "favorable = set.intersection # Outcomes that are in the event and in the sample space\n",
    "cases     = len              # The number of cases is the length, or size, of a set"
   ]
  },
  {
   "cell_type": "code",
   "execution_count": 2,
   "id": "882e812a-950d-460e-b41e-a4b0a6db4bb9",
   "metadata": {},
   "outputs": [
    {
     "data": {
      "text/plain": [
       "Fraction(1, 2)"
      ]
     },
     "execution_count": 2,
     "metadata": {},
     "output_type": "execute_result"
    }
   ],
   "source": [
    "D     = {1, 2, 3, 4, 5, 6} # a sample space\n",
    "even  = {   2,    4,    6} # an event\n",
    "\n",
    "P(even, D)"
   ]
  },
  {
   "cell_type": "code",
   "execution_count": 3,
   "id": "3deadbb6-797a-4fbf-b919-0d12f7ca9d75",
   "metadata": {},
   "outputs": [
    {
     "data": {
      "text/plain": [
       "52"
      ]
     },
     "execution_count": 3,
     "metadata": {},
     "output_type": "execute_result"
    }
   ],
   "source": [
    "suits = u'♥♠♦♣'\n",
    "ranks = u'AKQJT98765432'\n",
    "deck  = [r + s for r in ranks for s in suits]\n",
    "len(deck)"
   ]
  },
  {
   "cell_type": "code",
   "execution_count": 5,
   "id": "741ff8d7-7337-45d4-b61d-75f193e21418",
   "metadata": {},
   "outputs": [
    {
     "data": {
      "text/plain": [
       "2598960"
      ]
     },
     "execution_count": 5,
     "metadata": {},
     "output_type": "execute_result"
    }
   ],
   "source": [
    "import itertools\n",
    "\n",
    "def combos(items, n):\n",
    "    \"All combinations of n items; each combo as a space-separated str.\"\n",
    "    return set(map(' '.join, itertools.combinations(items, n)))\n",
    "\n",
    "Hands = combos(deck, 5)\n",
    "len(Hands)"
   ]
  },
  {
   "cell_type": "code",
   "execution_count": 9,
   "id": "c76efa1f-7227-4a10-a0cd-dcb462143f09",
   "metadata": {},
   "outputs": [
    {
     "name": "stderr",
     "output_type": "stream",
     "text": [
      "/tmp/ipykernel_62/1855166777.py:2: DeprecationWarning: Sampling from a set deprecated\n",
      "since Python 3.9 and will be removed in a subsequent version.\n",
      "  random.sample(Hands, 7)\n"
     ]
    },
    {
     "data": {
      "text/plain": [
       "['A♥ 9♠ 7♥ 4♥ 3♣',\n",
       " '9♣ 8♣ 5♣ 4♠ 2♠',\n",
       " 'Q♠ Q♣ 8♣ 7♦ 5♣',\n",
       " '8♣ 5♣ 4♥ 4♠ 3♠',\n",
       " 'A♦ K♦ Q♥ 4♦ 2♦',\n",
       " 'T♠ 9♦ 7♦ 4♠ 4♦',\n",
       " 'A♣ T♠ T♣ 7♥ 7♣']"
      ]
     },
     "execution_count": 9,
     "metadata": {},
     "output_type": "execute_result"
    }
   ],
   "source": [
    "import random\n",
    "random.sample(Hands, 7)"
   ]
  },
  {
   "cell_type": "code",
   "execution_count": 10,
   "id": "8eb15744-212e-4350-baef-3ffa7bd70d40",
   "metadata": {},
   "outputs": [],
   "source": [
    "flush = {hand for hand in Hands if any(hand.count(suit) == 5 for suit in suits)}"
   ]
  },
  {
   "cell_type": "code",
   "execution_count": 15,
   "id": "0e121a10-4ffb-48a3-8b5c-1db96e92f7d5",
   "metadata": {},
   "outputs": [],
   "source": [
    "test = list(Hands)[1]"
   ]
  },
  {
   "cell_type": "code",
   "execution_count": 18,
   "id": "e3e857ae-d2a3-4c66-b5b5-047f7b533182",
   "metadata": {},
   "outputs": [
    {
     "data": {
      "text/plain": [
       "1"
      ]
     },
     "execution_count": 18,
     "metadata": {},
     "output_type": "execute_result"
    }
   ],
   "source": [
    "test.count(\"♥\")"
   ]
  },
  {
   "cell_type": "code",
   "execution_count": 19,
   "id": "e7000f69-3401-49fa-878b-c3db83b4803c",
   "metadata": {},
   "outputs": [
    {
     "data": {
      "text/plain": [
       "Fraction(33, 16660)"
      ]
     },
     "execution_count": 19,
     "metadata": {},
     "output_type": "execute_result"
    }
   ],
   "source": [
    "P(flush, Hands)"
   ]
  },
  {
   "cell_type": "code",
   "execution_count": null,
   "id": "28d7b155-81aa-4f55-819d-26bf17ca6472",
   "metadata": {},
   "outputs": [],
   "source": []
  }
 ],
 "metadata": {
  "kernelspec": {
   "display_name": "Python 3 (ipykernel)",
   "language": "python",
   "name": "python3"
  },
  "language_info": {
   "codemirror_mode": {
    "name": "ipython",
    "version": 3
   },
   "file_extension": ".py",
   "mimetype": "text/x-python",
   "name": "python",
   "nbconvert_exporter": "python",
   "pygments_lexer": "ipython3",
   "version": "3.9.6"
  }
 },
 "nbformat": 4,
 "nbformat_minor": 5
}
